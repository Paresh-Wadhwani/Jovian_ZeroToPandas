{
 "cells": [
  {
   "cell_type": "markdown",
   "metadata": {},
   "source": [
    "# Numpy Array Operations\n",
    "\n",
    "\n",
    "### Here you can read about some important Numpy functions.\n",
    "\n",
    "\n",
    "- array(): Creates a numpy array from given data.\n",
    "- arange(): Similar to range() in base Python but it returns numpy arrays and have much more features.\n",
    "- vstack(): Stacks 2 or more arrays/lists vertically.\n",
    "- reshape(): Reshapes a list/numpy array without changing the data or [row-wise] order.\n",
    "- dot(): Returns the matrix product of 2 matrices.\n",
    "\n",
    "**Note:** The naming convention used is, that if a variable is named _f1_ex2_some_name_, that means it is a part of example 2 of function 1.\n",
    "\n"
   ]
  },
  {
   "cell_type": "code",
   "execution_count": null,
   "metadata": {},
   "outputs": [],
   "source": [
    "!pip install jovian --upgrade -q"
   ]
  },
  {
   "cell_type": "code",
   "execution_count": 1,
   "metadata": {},
   "outputs": [],
   "source": [
    "import jovian"
   ]
  },
  {
   "cell_type": "code",
   "execution_count": null,
   "metadata": {},
   "outputs": [],
   "source": [
    "jovian.commit(project='numpy-array-operations')"
   ]
  },
  {
   "cell_type": "markdown",
   "metadata": {},
   "source": [
    "Let's begin by importing Numpy and listing out the functions covered in this notebook."
   ]
  },
  {
   "cell_type": "code",
   "execution_count": 2,
   "metadata": {},
   "outputs": [],
   "source": [
    "import numpy as np"
   ]
  },
  {
   "cell_type": "code",
   "execution_count": 3,
   "metadata": {},
   "outputs": [],
   "source": [
    "# List of functions explained \n",
    "function1 = np.array\n",
    "function2 = np.arange\n",
    "function3 = np.vstack\n",
    "function4 = np.reshape\n",
    "function5 = np.dot"
   ]
  },
  {
   "cell_type": "markdown",
   "metadata": {},
   "source": [
    "## Function 1 - np.array()\n",
    "\n",
    "Returns the given data [usually a list or tuple] in form of numpy array"
   ]
  },
  {
   "cell_type": "code",
   "execution_count": 4,
   "metadata": {},
   "outputs": [
    {
     "name": "stdout",
     "output_type": "stream",
     "text": [
      "Initial data:  [[1, 2, 3], [4, 5, 6]]\n",
      "Type of initial data:  <class 'list'>\n",
      "\n",
      "Data parsed from np.array() function:  [[1 2 3]\n",
      " [4 5 6]]\n",
      "Type of data parsed from np.array() function:  <class 'numpy.ndarray'>\n"
     ]
    }
   ],
   "source": [
    "# Example 1 - Creating a numpy array from Python List\n",
    "f1_ex1_python_list = [[1, 2, 3], [4, 5, 6]]\n",
    "\n",
    "print('Initial data: ', f1_ex1_python_list)\n",
    "print('Type of initial data: ', type(f1_ex1_python_list))\n",
    "\n",
    "print()\n",
    "\n",
    "f1_ex1_numpy_array = np.array(f1_ex1_python_list)\n",
    "\n",
    "print('Data parsed from np.array() function: ', f1_ex1_numpy_array)\n",
    "print('Type of data parsed from np.array() function: ', type(f1_ex1_numpy_array))"
   ]
  },
  {
   "cell_type": "markdown",
   "metadata": {},
   "source": [
    "**In the above example, the function np.array() takes in data in form of Python list and returns the same data in form of a numpy array.**"
   ]
  },
  {
   "cell_type": "code",
   "execution_count": 5,
   "metadata": {},
   "outputs": [
    {
     "name": "stdout",
     "output_type": "stream",
     "text": [
      "First element of first row of Python list:  7\n",
      "Type of first element of first row of Python list:  <class 'int'>\n",
      "\n",
      "First element of first row of numpy array:  7.0\n",
      "Type of first element of first row of numpy array:  <class 'numpy.float64'>\n"
     ]
    }
   ],
   "source": [
    "# Example 2 - Specifying datatype of the resulting array\n",
    "f1_ex2_python_list = [[7, 8, 9], [10, 11, 12]]\n",
    "\n",
    "print('First element of first row of Python list: ', f1_ex2_python_list[0][0])\n",
    "print('Type of first element of first row of Python list: ', type(f1_ex2_python_list[0][0]))\n",
    "\n",
    "print()\n",
    "\n",
    "f1_ex2_numpy_array = np.array(f1_ex2_python_list, dtype = 'float64')\n",
    "\n",
    "print('First element of first row of numpy array: ', f1_ex2_numpy_array[0][0])\n",
    "print('Type of first element of first row of numpy array: ', type(f1_ex2_numpy_array[0][0]))"
   ]
  },
  {
   "cell_type": "markdown",
   "metadata": {},
   "source": [
    "**In the above example, even if the source data is a list of integers, the resultant numpy array is of datatype float as given explicitly in the np.array() function.**"
   ]
  },
  {
   "cell_type": "code",
   "execution_count": 6,
   "metadata": {},
   "outputs": [
    {
     "name": "stdout",
     "output_type": "stream",
     "text": [
      "Initial data:  [[13, 14, 15], [16, 17, 18, 19]]\n",
      "Type of initial data:  <class 'list'>\n",
      "\n",
      "Data parsed from np.array() function:  [list([13, 14, 15]) list([16, 17, 18, 19])]\n",
      "Type of data parsed from np.array() function:  <class 'numpy.ndarray'>\n"
     ]
    },
    {
     "name": "stderr",
     "output_type": "stream",
     "text": [
      "<ipython-input-6-1b033f15f21a>:9: VisibleDeprecationWarning: Creating an ndarray from ragged nested sequences (which is a list-or-tuple of lists-or-tuples-or ndarrays with different lengths or shapes) is deprecated. If you meant to do this, you must specify 'dtype=object' when creating the ndarray\n",
      "  f1_ex3_numpy_array = np.array(f1_ex3_python_list)\n"
     ]
    }
   ],
   "source": [
    "# Example 3 - It gives VisibleDeprecationWarning when the the number of columns is not same in all rows.\n",
    "f1_ex3_python_list = [[13, 14, 15], [16, 17, 18, 19]]\n",
    "\n",
    "print('Initial data: ', f1_ex3_python_list)\n",
    "print('Type of initial data: ', type(f1_ex3_python_list))\n",
    "\n",
    "print()\n",
    "\n",
    "f1_ex3_numpy_array = np.array(f1_ex3_python_list)\n",
    "\n",
    "print('Data parsed from np.array() function: ', f1_ex3_numpy_array)\n",
    "print('Type of data parsed from np.array() function: ', type(f1_ex3_numpy_array))"
   ]
  },
  {
   "cell_type": "markdown",
   "metadata": {},
   "source": [
    "**As we see in the above examples, number of columns [number of elements in a row] should be same for each row. To solve, we can append a null value to the row(s) with less number of elements(comumns) than others.**"
   ]
  },
  {
   "cell_type": "code",
   "execution_count": 7,
   "metadata": {},
   "outputs": [
    {
     "name": "stdout",
     "output_type": "stream",
     "text": [
      "Initial data:  [[13, 14, 15, None], [16, 17, 18, 19]]\n",
      "Type of initial data:  <class 'list'>\n",
      "\n",
      "Data parsed from np.array() function:  [[13 14 15 None]\n",
      " [16 17 18 19]]\n",
      "Type of data parsed from np.array() function:  <class 'numpy.ndarray'>\n"
     ]
    }
   ],
   "source": [
    "# Example 4 - alternative way to avoid the exception\n",
    "f1_ex4_python_list_alt = [[13, 14, 15, None], [16, 17, 18, 19]]\n",
    "\n",
    "print('Initial data: ', f1_ex4_python_list_alt)\n",
    "print('Type of initial data: ', type(f1_ex4_python_list_alt))\n",
    "\n",
    "print()\n",
    "\n",
    "f1_ex4_numpy_array_alt = np.array(f1_ex4_python_list_alt)\n",
    "\n",
    "print('Data parsed from np.array() function: ', f1_ex4_numpy_array_alt)\n",
    "print('Type of data parsed from np.array() function: ', type(f1_ex4_numpy_array_alt))"
   ]
  },
  {
   "cell_type": "markdown",
   "metadata": {},
   "source": [
    "**Above method is just a way to avoid the exception, it may or may not support your particular use-case.**"
   ]
  },
  {
   "cell_type": "code",
   "execution_count": null,
   "metadata": {},
   "outputs": [],
   "source": [
    "jovian.commit()"
   ]
  },
  {
   "cell_type": "markdown",
   "metadata": {},
   "source": [
    "## Function 2 - np.arange()\n",
    "\n",
    "Returns an numpy array of evenly spaced numbers with given dimensions."
   ]
  },
  {
   "cell_type": "code",
   "execution_count": 8,
   "metadata": {},
   "outputs": [
    {
     "name": "stdout",
     "output_type": "stream",
     "text": [
      "A list of first 10 even numbers created by np.arange():\n",
      "[ 0  2  4  6  8 10 12 14 16 18]\n"
     ]
    }
   ],
   "source": [
    "# Example 1 - Creating an array of even numbers between 0 [inclusive] and 20 [exclusive] [Starting from 0]\n",
    "\n",
    "f2_ex1_first_ten_even_numbers = np.arange(start = 0, stop = 20, step = 2)\n",
    "\n",
    "print('A list of first 10 even numbers created by np.arange():')\n",
    "print(f2_ex1_first_ten_even_numbers)"
   ]
  },
  {
   "cell_type": "markdown",
   "metadata": {},
   "source": [
    "**In the above example, 'start' will be the first element of the array and 'step' is the common difference between any 2 adjacent elements.**\n",
    "\n",
    "**The resultant array will contain numbers which are strictly smaller than the 'stop' parameter.**"
   ]
  },
  {
   "cell_type": "code",
   "execution_count": 9,
   "metadata": {},
   "outputs": [
    {
     "name": "stdout",
     "output_type": "stream",
     "text": [
      "Array of even number between 0 and 20 in descending order:\n",
      "[20 18 16 14 12 10  8  6  4  2]\n"
     ]
    }
   ],
   "source": [
    "# Example 2 - We can also give a negative step\n",
    "\n",
    "f2_ex2_even_numbers_in_descending_order = np.arange(start = 20, stop = 0, step = -2)\n",
    "\n",
    "print('Array of even number between 0 and 20 in descending order:')\n",
    "print(f2_ex2_even_numbers_in_descending_order)"
   ]
  },
  {
   "cell_type": "markdown",
   "metadata": {},
   "source": [
    "**We can see that now 20 in included in the result while 0 is not.**"
   ]
  },
  {
   "cell_type": "code",
   "execution_count": 10,
   "metadata": {},
   "outputs": [
    {
     "name": "stdout",
     "output_type": "stream",
     "text": [
      "As we give a negative step when start is smaller than stop, we get:\n",
      "[]\n"
     ]
    }
   ],
   "source": [
    "# Example 3 - It will return an empty array if start is smaller than stop and step is negative.\n",
    "\n",
    "f1_ex3_first_ten_even_numbers = np.arange(start = 0, stop = 20, step = -2)\n",
    "\n",
    "print('As we give a negative step when start is smaller than stop, we get:')\n",
    "print(f1_ex3_first_ten_even_numbers)"
   ]
  },
  {
   "cell_type": "markdown",
   "metadata": {},
   "source": [
    "**As we can see, if adding step to start doesn't decrease the absolute difference between the start and stop, there will be an infinitely long list if we start calculating the result without checking this case.**\n",
    "\n",
    "**To avoid this, we should always check this special case before calling the function as it does not throw an exception in this case, we are prone to logical errors here.**"
   ]
  },
  {
   "cell_type": "markdown",
   "metadata": {},
   "source": [
    "**We can use this function in use-case like where we need a list of first 10 whole numbers, first 5 multiples of 3, etc. as by using this, we'll not have to write a loop for these use-cases.**"
   ]
  },
  {
   "cell_type": "code",
   "execution_count": null,
   "metadata": {},
   "outputs": [],
   "source": [
    "jovian.commit()"
   ]
  },
  {
   "cell_type": "markdown",
   "metadata": {},
   "source": [
    "## Function 3 - np.vstack()\n",
    "\n",
    "Concatenates the given arrays along the first axis ie along the columns."
   ]
  },
  {
   "cell_type": "code",
   "execution_count": 11,
   "metadata": {},
   "outputs": [
    {
     "name": "stdout",
     "output_type": "stream",
     "text": [
      "Individual array are: \n",
      "[1, 3, 5]\n",
      "[7, 9, 10]\n",
      "\n",
      "\n",
      "Concatenated array is: \n",
      "[[ 1  3  5]\n",
      " [ 7  9 10]]\n"
     ]
    }
   ],
   "source": [
    "# Example 1 - Concatenating two Python lists\n",
    "f3_ex1_list1 = [1, 3, 5]\n",
    "f3_ex1_list2 = [7, 9, 10]\n",
    "\n",
    "print('Individual array are: ')\n",
    "print(f3_ex1_list1)\n",
    "print(f3_ex1_list2)\n",
    "\n",
    "f3_ex1_stacked_array = np.vstack((f3_ex1_list1, f3_ex1_list2))\n",
    "\n",
    "print('\\n\\nConcatenated array is: ')\n",
    "print(f3_ex1_stacked_array)"
   ]
  },
  {
   "cell_type": "markdown",
   "metadata": {},
   "source": [
    "**We need to pass the tuple containing all the arrays [numpy arrays or python lists] and it will return those stacked along columns.**"
   ]
  },
  {
   "cell_type": "code",
   "execution_count": 12,
   "metadata": {},
   "outputs": [
    {
     "name": "stdout",
     "output_type": "stream",
     "text": [
      "Individual array are: \n",
      "[[1 2 3]\n",
      " [4 5 6]]\n",
      "[[ 7  8  9]\n",
      " [10 11 12]]\n",
      "\n",
      "\n",
      "Concatenated array is: \n",
      "[[ 1  2  3]\n",
      " [ 4  5  6]\n",
      " [ 7  8  9]\n",
      " [10 11 12]]\n"
     ]
    }
   ],
   "source": [
    "# Example 2 - Concatenating 2 - Dimensional numpy lists.\n",
    "\n",
    "f3_ex2_ndarray_1 = np.array([[1, 2, 3], [4, 5, 6]])\n",
    "f3_ex2_ndarray_2 = np.array([[7, 8, 9], [10, 11, 12]])\n",
    "\n",
    "print('Individual array are: ')\n",
    "print(f3_ex2_ndarray_1)\n",
    "print(f3_ex2_ndarray_2)\n",
    "\n",
    "f3_ex2_concatenated_array = np.vstack((f3_ex2_ndarray_1, f3_ex2_ndarray_2))\n",
    "\n",
    "print('\\n\\nConcatenated array is: ')\n",
    "print(f3_ex2_concatenated_array)"
   ]
  },
  {
   "cell_type": "markdown",
   "metadata": {},
   "source": [
    "**As depicted, we can stack any two arrays with equal number of columns.**"
   ]
  },
  {
   "cell_type": "code",
   "execution_count": 13,
   "metadata": {},
   "outputs": [
    {
     "name": "stdout",
     "output_type": "stream",
     "text": [
      "Individual array are: \n",
      "[[1 2 3]\n",
      " [4 5 6]]\n",
      "[[ 7  8  9 10]\n",
      " [11 12 13 14]]\n"
     ]
    },
    {
     "ename": "ValueError",
     "evalue": "all the input array dimensions for the concatenation axis must match exactly, but along dimension 1, the array at index 0 has size 3 and the array at index 1 has size 4",
     "output_type": "error",
     "traceback": [
      "\u001b[1;31m---------------------------------------------------------------------------\u001b[0m",
      "\u001b[1;31mValueError\u001b[0m                                Traceback (most recent call last)",
      "\u001b[1;32m<ipython-input-13-feb6a96cf8d7>\u001b[0m in \u001b[0;36m<module>\u001b[1;34m\u001b[0m\n\u001b[0;32m      8\u001b[0m \u001b[0mprint\u001b[0m\u001b[1;33m(\u001b[0m\u001b[0mf3_ex3_ndarray_2\u001b[0m\u001b[1;33m)\u001b[0m\u001b[1;33m\u001b[0m\u001b[1;33m\u001b[0m\u001b[0m\n\u001b[0;32m      9\u001b[0m \u001b[1;33m\u001b[0m\u001b[0m\n\u001b[1;32m---> 10\u001b[1;33m \u001b[0mf3_ex3_concatenated_array\u001b[0m \u001b[1;33m=\u001b[0m \u001b[0mnp\u001b[0m\u001b[1;33m.\u001b[0m\u001b[0mvstack\u001b[0m\u001b[1;33m(\u001b[0m\u001b[1;33m(\u001b[0m\u001b[0mf3_ex3_ndarray_1\u001b[0m\u001b[1;33m,\u001b[0m \u001b[0mf3_ex3_ndarray_2\u001b[0m\u001b[1;33m)\u001b[0m\u001b[1;33m)\u001b[0m\u001b[1;33m\u001b[0m\u001b[1;33m\u001b[0m\u001b[0m\n\u001b[0m\u001b[0;32m     11\u001b[0m \u001b[1;33m\u001b[0m\u001b[0m\n\u001b[0;32m     12\u001b[0m \u001b[0mprint\u001b[0m\u001b[1;33m(\u001b[0m\u001b[1;34m'\\n\\nConcatenated array is: '\u001b[0m\u001b[1;33m)\u001b[0m\u001b[1;33m\u001b[0m\u001b[1;33m\u001b[0m\u001b[0m\n",
      "\u001b[1;32m<__array_function__ internals>\u001b[0m in \u001b[0;36mvstack\u001b[1;34m(*args, **kwargs)\u001b[0m\n",
      "\u001b[1;32mC:\\Anaconda3\\lib\\site-packages\\numpy\\core\\shape_base.py\u001b[0m in \u001b[0;36mvstack\u001b[1;34m(tup)\u001b[0m\n\u001b[0;32m    281\u001b[0m     \u001b[1;32mif\u001b[0m \u001b[1;32mnot\u001b[0m \u001b[0misinstance\u001b[0m\u001b[1;33m(\u001b[0m\u001b[0marrs\u001b[0m\u001b[1;33m,\u001b[0m \u001b[0mlist\u001b[0m\u001b[1;33m)\u001b[0m\u001b[1;33m:\u001b[0m\u001b[1;33m\u001b[0m\u001b[1;33m\u001b[0m\u001b[0m\n\u001b[0;32m    282\u001b[0m         \u001b[0marrs\u001b[0m \u001b[1;33m=\u001b[0m \u001b[1;33m[\u001b[0m\u001b[0marrs\u001b[0m\u001b[1;33m]\u001b[0m\u001b[1;33m\u001b[0m\u001b[1;33m\u001b[0m\u001b[0m\n\u001b[1;32m--> 283\u001b[1;33m     \u001b[1;32mreturn\u001b[0m \u001b[0m_nx\u001b[0m\u001b[1;33m.\u001b[0m\u001b[0mconcatenate\u001b[0m\u001b[1;33m(\u001b[0m\u001b[0marrs\u001b[0m\u001b[1;33m,\u001b[0m \u001b[1;36m0\u001b[0m\u001b[1;33m)\u001b[0m\u001b[1;33m\u001b[0m\u001b[1;33m\u001b[0m\u001b[0m\n\u001b[0m\u001b[0;32m    284\u001b[0m \u001b[1;33m\u001b[0m\u001b[0m\n\u001b[0;32m    285\u001b[0m \u001b[1;33m\u001b[0m\u001b[0m\n",
      "\u001b[1;32m<__array_function__ internals>\u001b[0m in \u001b[0;36mconcatenate\u001b[1;34m(*args, **kwargs)\u001b[0m\n",
      "\u001b[1;31mValueError\u001b[0m: all the input array dimensions for the concatenation axis must match exactly, but along dimension 1, the array at index 0 has size 3 and the array at index 1 has size 4"
     ]
    }
   ],
   "source": [
    "# Example 3 - It throws error when the number of columns is not consistent along all the given arrays.\n",
    "\n",
    "f3_ex3_ndarray_1 = np.array([[1, 2, 3], [4, 5, 6]])\n",
    "f3_ex3_ndarray_2 = np.array([[7, 8, 9, 10], [11, 12, 13, 14]])\n",
    "\n",
    "print('Individual array are: ')\n",
    "print(f3_ex3_ndarray_1)\n",
    "print(f3_ex3_ndarray_2)\n",
    "\n",
    "f3_ex3_concatenated_array = np.vstack((f3_ex3_ndarray_1, f3_ex3_ndarray_2))\n",
    "\n",
    "print('\\n\\nConcatenated array is: ')\n",
    "print(f3_ex3_concatenated_array)"
   ]
  },
  {
   "cell_type": "markdown",
   "metadata": {},
   "source": [
    "**Above exception can be avoided using same trick as given in Example 4 of function 1.**"
   ]
  },
  {
   "cell_type": "markdown",
   "metadata": {},
   "source": [
    "**It is just a particular case of the more general np.concatenate() function. Using this function instead increases the code readability and decreases the amount of parameters needed to be given as input.**"
   ]
  },
  {
   "cell_type": "code",
   "execution_count": null,
   "metadata": {},
   "outputs": [],
   "source": [
    "jovian.commit()"
   ]
  },
  {
   "cell_type": "markdown",
   "metadata": {},
   "source": [
    "## Function 4 - np.reshape()\n",
    "\n",
    "It takes input a Python list or a numpy array and returns another numpy array object with same data but with different shape."
   ]
  },
  {
   "cell_type": "code",
   "execution_count": 14,
   "metadata": {},
   "outputs": [
    {
     "name": "stdout",
     "output_type": "stream",
     "text": [
      "Initial 4 x 3 array:\n",
      "[[ 1  2  3]\n",
      " [ 4  5  6]\n",
      " [ 7  8  9]\n",
      " [10 11 12]]\n",
      "\n",
      "\n",
      "Reshaped 2 x 6 array:\n",
      "[[ 1  2  3  4  5  6]\n",
      " [ 7  8  9 10 11 12]]\n"
     ]
    }
   ],
   "source": [
    "# Example 1 - Let's try converting a 4 x 3 array to a 2 x 6 array\n",
    "\n",
    "f4_ex1_4x3_numpy_array = np.array([[1, 2, 3], [4, 5, 6], [7, 8, 9], [10, 11, 12]])\n",
    "\n",
    "print('Initial 4 x 3 array:')\n",
    "print(f4_ex1_4x3_numpy_array)\n",
    "\n",
    "f4_ex1_2x6_reshaped_array = np.reshape(f4_ex1_4x3_numpy_array, newshape = (2, 6))\n",
    "\n",
    "print('\\n\\nReshaped 2 x 6 array:')\n",
    "print(f4_ex1_2x6_reshaped_array)"
   ]
  },
  {
   "cell_type": "markdown",
   "metadata": {},
   "source": [
    "**As stated in the definition, it returns the same data, but in different order.**"
   ]
  },
  {
   "cell_type": "code",
   "execution_count": 15,
   "metadata": {},
   "outputs": [
    {
     "name": "stdout",
     "output_type": "stream",
     "text": [
      "Initial 1D Python list:\n",
      "[10, 20, 30, 40, 50, 60, 70, 80, 90, 100, 110, 120]\n",
      "\n",
      "\n",
      "Reshaped 4 x 3 numpy array:\n",
      "[[ 10  20  30]\n",
      " [ 40  50  60]\n",
      " [ 70  80  90]\n",
      " [100 110 120]]\n"
     ]
    }
   ],
   "source": [
    "# Example 2 - Another common use case of this function is to generate a desired 2D array from a 1D array. Let's see\n",
    "\n",
    "f4_ex2_1d_python_array = [10, 20, 30, 40, 50, 60, 70, 80, 90, 100, 110, 120]\n",
    "\n",
    "print('Initial 1D Python list:')\n",
    "print(f4_ex2_1d_python_array)\n",
    "\n",
    "f4_ex2_4x3_reshaped_array = np.reshape(f4_ex2_1d_python_array, newshape = (4, 3))\n",
    "\n",
    "print('\\n\\nReshaped 4 x 3 numpy array:')\n",
    "print(f4_ex2_4x3_reshaped_array)"
   ]
  },
  {
   "cell_type": "markdown",
   "metadata": {},
   "source": [
    "**Explanation about example**"
   ]
  },
  {
   "cell_type": "code",
   "execution_count": 16,
   "metadata": {},
   "outputs": [
    {
     "name": "stdout",
     "output_type": "stream",
     "text": [
      "Initial 2 x 2 array:\n",
      "[[ 5 15]\n",
      " [25 35]]\n",
      "First let's try converting the given array to a 4 x 1 array\n",
      "\n",
      "\n",
      "Reshaped 4 x 1 array:\n",
      "[[ 5]\n",
      " [15]\n",
      " [25]\n",
      " [35]]\n",
      "Now let's try converting the same array to a 4 x 4 array\n"
     ]
    },
    {
     "ename": "ValueError",
     "evalue": "cannot reshape array of size 4 into shape (4,4)",
     "output_type": "error",
     "traceback": [
      "\u001b[1;31m---------------------------------------------------------------------------\u001b[0m",
      "\u001b[1;31mValueError\u001b[0m                                Traceback (most recent call last)",
      "\u001b[1;32m<ipython-input-16-a142666442fa>\u001b[0m in \u001b[0;36m<module>\u001b[1;34m\u001b[0m\n\u001b[0;32m     14\u001b[0m \u001b[1;33m\u001b[0m\u001b[0m\n\u001b[0;32m     15\u001b[0m \u001b[0mprint\u001b[0m\u001b[1;33m(\u001b[0m\u001b[1;34m\"Now let's try converting the same array to a 4 x 4 array\"\u001b[0m\u001b[1;33m)\u001b[0m\u001b[1;33m\u001b[0m\u001b[1;33m\u001b[0m\u001b[0m\n\u001b[1;32m---> 16\u001b[1;33m \u001b[0mf4_ex3_4x4_reshaped_array\u001b[0m \u001b[1;33m=\u001b[0m \u001b[0mnp\u001b[0m\u001b[1;33m.\u001b[0m\u001b[0mreshape\u001b[0m\u001b[1;33m(\u001b[0m\u001b[0mf4_ex3_2x2_numpy_array\u001b[0m\u001b[1;33m,\u001b[0m \u001b[0mnewshape\u001b[0m \u001b[1;33m=\u001b[0m \u001b[1;33m(\u001b[0m\u001b[1;36m4\u001b[0m\u001b[1;33m,\u001b[0m \u001b[1;36m4\u001b[0m\u001b[1;33m)\u001b[0m\u001b[1;33m)\u001b[0m\u001b[1;33m\u001b[0m\u001b[1;33m\u001b[0m\u001b[0m\n\u001b[0m\u001b[0;32m     17\u001b[0m \u001b[1;33m\u001b[0m\u001b[0m\n\u001b[0;32m     18\u001b[0m \u001b[0mprint\u001b[0m\u001b[1;33m(\u001b[0m\u001b[1;34m'\\n\\nReshaped 4 x 4 array:'\u001b[0m\u001b[1;33m)\u001b[0m \u001b[1;31m# This line is never going to run\u001b[0m\u001b[1;33m\u001b[0m\u001b[1;33m\u001b[0m\u001b[0m\n",
      "\u001b[1;32m<__array_function__ internals>\u001b[0m in \u001b[0;36mreshape\u001b[1;34m(*args, **kwargs)\u001b[0m\n",
      "\u001b[1;32mC:\\Anaconda3\\lib\\site-packages\\numpy\\core\\fromnumeric.py\u001b[0m in \u001b[0;36mreshape\u001b[1;34m(a, newshape, order)\u001b[0m\n\u001b[0;32m    297\u001b[0m            [5, 6]])\n\u001b[0;32m    298\u001b[0m     \"\"\"\n\u001b[1;32m--> 299\u001b[1;33m     \u001b[1;32mreturn\u001b[0m \u001b[0m_wrapfunc\u001b[0m\u001b[1;33m(\u001b[0m\u001b[0ma\u001b[0m\u001b[1;33m,\u001b[0m \u001b[1;34m'reshape'\u001b[0m\u001b[1;33m,\u001b[0m \u001b[0mnewshape\u001b[0m\u001b[1;33m,\u001b[0m \u001b[0morder\u001b[0m\u001b[1;33m=\u001b[0m\u001b[0morder\u001b[0m\u001b[1;33m)\u001b[0m\u001b[1;33m\u001b[0m\u001b[1;33m\u001b[0m\u001b[0m\n\u001b[0m\u001b[0;32m    300\u001b[0m \u001b[1;33m\u001b[0m\u001b[0m\n\u001b[0;32m    301\u001b[0m \u001b[1;33m\u001b[0m\u001b[0m\n",
      "\u001b[1;32mC:\\Anaconda3\\lib\\site-packages\\numpy\\core\\fromnumeric.py\u001b[0m in \u001b[0;36m_wrapfunc\u001b[1;34m(obj, method, *args, **kwds)\u001b[0m\n\u001b[0;32m     56\u001b[0m \u001b[1;33m\u001b[0m\u001b[0m\n\u001b[0;32m     57\u001b[0m     \u001b[1;32mtry\u001b[0m\u001b[1;33m:\u001b[0m\u001b[1;33m\u001b[0m\u001b[1;33m\u001b[0m\u001b[0m\n\u001b[1;32m---> 58\u001b[1;33m         \u001b[1;32mreturn\u001b[0m \u001b[0mbound\u001b[0m\u001b[1;33m(\u001b[0m\u001b[1;33m*\u001b[0m\u001b[0margs\u001b[0m\u001b[1;33m,\u001b[0m \u001b[1;33m**\u001b[0m\u001b[0mkwds\u001b[0m\u001b[1;33m)\u001b[0m\u001b[1;33m\u001b[0m\u001b[1;33m\u001b[0m\u001b[0m\n\u001b[0m\u001b[0;32m     59\u001b[0m     \u001b[1;32mexcept\u001b[0m \u001b[0mTypeError\u001b[0m\u001b[1;33m:\u001b[0m\u001b[1;33m\u001b[0m\u001b[1;33m\u001b[0m\u001b[0m\n\u001b[0;32m     60\u001b[0m         \u001b[1;31m# A TypeError occurs if the object does have such a method in its\u001b[0m\u001b[1;33m\u001b[0m\u001b[1;33m\u001b[0m\u001b[1;33m\u001b[0m\u001b[0m\n",
      "\u001b[1;31mValueError\u001b[0m: cannot reshape array of size 4 into shape (4,4)"
     ]
    }
   ],
   "source": [
    "''' Example 3 - It returns a ValueError exception when the number of elements in the given array is not equal to \n",
    "    the number of elements in an array of desired shape.'''\n",
    "\n",
    "f4_ex3_2x2_numpy_array = np.array([[5, 15], [25, 35]])\n",
    "\n",
    "print('Initial 2 x 2 array:')\n",
    "print(f4_ex3_2x2_numpy_array)\n",
    "\n",
    "print(\"First let's try converting the given array to a 4 x 1 array\")\n",
    "f4_ex3_4x1_reshaped_array = np.reshape(f4_ex3_2x2_numpy_array, newshape = (4, 1))\n",
    "\n",
    "print('\\n\\nReshaped 4 x 1 array:')\n",
    "print(f4_ex3_4x1_reshaped_array)\n",
    "\n",
    "print(\"Now let's try converting the same array to a 4 x 4 array\")\n",
    "f4_ex3_4x4_reshaped_array = np.reshape(f4_ex3_2x2_numpy_array, newshape = (4, 4))\n",
    "\n",
    "print('\\n\\nReshaped 4 x 4 array:') # This line is never going to run\n",
    "print(f4_ex3_4x4_reshaped_array)"
   ]
  },
  {
   "cell_type": "markdown",
   "metadata": {},
   "source": [
    "**As you might have already figured out, if we want an array of size 4 x 4, we must input an array in which the number of elements is exactly equal to 16.**"
   ]
  },
  {
   "cell_type": "markdown",
   "metadata": {},
   "source": [
    "**One important point to notice is that in most cases, it will not change the underlying object and the input and output arrays will just be different views of the same object**"
   ]
  },
  {
   "cell_type": "code",
   "execution_count": null,
   "metadata": {},
   "outputs": [],
   "source": [
    "jovian.commit()"
   ]
  },
  {
   "cell_type": "markdown",
   "metadata": {},
   "source": [
    "## Function 5 - np.dot()\n",
    "\n",
    "Used to calculate the matrix product of 2 matrices [matrices can be Python lists or numpy arrays]"
   ]
  },
  {
   "cell_type": "code",
   "execution_count": 17,
   "metadata": {},
   "outputs": [
    {
     "name": "stdout",
     "output_type": "stream",
     "text": [
      "Array 1 is:\n",
      "[[1 2]\n",
      " [3 4]]\n",
      "Array 2 is:\n",
      "[[5 6]\n",
      " [7 8]]\n",
      "\n",
      "\n",
      "Product matrix as calculated by np.dot function:\n",
      "[[19 22]\n",
      " [43 50]]\n"
     ]
    }
   ],
   "source": [
    "# Example 1 - Let's calculate the matrix product of two 2D numpy arrays\n",
    "\n",
    "f5_ex1_array_1 = np.array([[1, 2], [3, 4]])\n",
    "f5_ex1_array_2 = np.array([[5, 6], [7, 8]])\n",
    "\n",
    "print('Array 1 is:')\n",
    "print(f5_ex1_array_1)\n",
    "\n",
    "print('Array 2 is:')\n",
    "print(f5_ex1_array_2)\n",
    "\n",
    "f5_ex1_matrix_product = np.dot(f5_ex1_array_1, f5_ex1_array_2)\n",
    "\n",
    "print('\\n\\nProduct matrix as calculated by np.dot function:')\n",
    "print(f5_ex1_matrix_product)"
   ]
  },
  {
   "cell_type": "markdown",
   "metadata": {},
   "source": [
    "**As expected, it returns the matrix product of two given arrays.**"
   ]
  },
  {
   "cell_type": "code",
   "execution_count": 18,
   "metadata": {},
   "outputs": [
    {
     "name": "stdout",
     "output_type": "stream",
     "text": [
      "Let's take a sample matrix:\n",
      "[[ 9 10]\n",
      " [11 12]]\n",
      "\n",
      "\n",
      "As we try to myltiply a scalar valued 5 by the above matrix, we get:\n",
      "[[45 50]\n",
      " [55 60]]\n"
     ]
    }
   ],
   "source": [
    "# Example 2 - It can also be used to multiply matrices with scalers.\n",
    "\n",
    "f5_ex2_some_int = 5\n",
    "f5_ex2_2x2_array = np.array([[9, 10], [11, 12]])\n",
    "\n",
    "print(\"Let's take a sample matrix:\")\n",
    "print(f5_ex2_2x2_array)\n",
    "\n",
    "f5_ex2_dot_product = np.dot(f5_ex2_some_int, f5_ex2_2x2_array)\n",
    "\n",
    "print('\\n\\nAs we try to myltiply a scalar valued {} by the above matrix, we get:'.format(f5_ex2_some_int))\n",
    "print(f5_ex2_dot_product)"
   ]
  },
  {
   "cell_type": "markdown",
   "metadata": {},
   "source": [
    "**Here, the function multiplies each element of the matrix with the given scalar.**"
   ]
  },
  {
   "cell_type": "code",
   "execution_count": 19,
   "metadata": {},
   "outputs": [
    {
     "name": "stdout",
     "output_type": "stream",
     "text": [
      "Shape of array 1 is:\n",
      "(2, 2)\n",
      "Shape of array 2 is:\n",
      "(3, 2)\n",
      "\n",
      "As we already know, multiplying these matrixes is against the rules of matrix multiplication.\n",
      "Still let's try multiplying them through np.dot()\n"
     ]
    },
    {
     "ename": "ValueError",
     "evalue": "shapes (2,2) and (3,2) not aligned: 2 (dim 1) != 3 (dim 0)",
     "output_type": "error",
     "traceback": [
      "\u001b[1;31m---------------------------------------------------------------------------\u001b[0m",
      "\u001b[1;31mValueError\u001b[0m                                Traceback (most recent call last)",
      "\u001b[1;32m<ipython-input-19-18d2fd2f2dd2>\u001b[0m in \u001b[0;36m<module>\u001b[1;34m\u001b[0m\n\u001b[0;32m     14\u001b[0m \u001b[0mprint\u001b[0m\u001b[1;33m(\u001b[0m\u001b[1;34m\"Still let's try multiplying them through np.dot()\"\u001b[0m\u001b[1;33m)\u001b[0m\u001b[1;33m\u001b[0m\u001b[1;33m\u001b[0m\u001b[0m\n\u001b[0;32m     15\u001b[0m \u001b[1;33m\u001b[0m\u001b[0m\n\u001b[1;32m---> 16\u001b[1;33m \u001b[0mf5_ex3_matrix_product\u001b[0m \u001b[1;33m=\u001b[0m \u001b[0mnp\u001b[0m\u001b[1;33m.\u001b[0m\u001b[0mdot\u001b[0m\u001b[1;33m(\u001b[0m\u001b[0mf5_ex3_array_1\u001b[0m\u001b[1;33m,\u001b[0m \u001b[0mf5_ex3_array_2\u001b[0m\u001b[1;33m)\u001b[0m\u001b[1;33m\u001b[0m\u001b[1;33m\u001b[0m\u001b[0m\n\u001b[0m\u001b[0;32m     17\u001b[0m \u001b[1;33m\u001b[0m\u001b[0m\n\u001b[0;32m     18\u001b[0m \u001b[0mprint\u001b[0m\u001b[1;33m(\u001b[0m\u001b[1;34m'\\n\\nProduct matrix as calculated by np.dot function:'\u001b[0m\u001b[1;33m)\u001b[0m\u001b[1;33m\u001b[0m\u001b[1;33m\u001b[0m\u001b[0m\n",
      "\u001b[1;32m<__array_function__ internals>\u001b[0m in \u001b[0;36mdot\u001b[1;34m(*args, **kwargs)\u001b[0m\n",
      "\u001b[1;31mValueError\u001b[0m: shapes (2,2) and (3,2) not aligned: 2 (dim 1) != 3 (dim 0)"
     ]
    }
   ],
   "source": [
    "''' Example 3 - It throws ValueError when the last dimension of the first matrix \n",
    "    is not same as the first dimension of second matrix.'''\n",
    "\n",
    "f5_ex3_array_1 = np.array([[10, 11], [12, 13]])\n",
    "f5_ex3_array_2 = np.array([[14, 15], [16, 17], [18, 19]])\n",
    "\n",
    "print('Shape of array 1 is:')\n",
    "print(f5_ex3_array_1.shape)\n",
    "\n",
    "print('Shape of array 2 is:')\n",
    "print(f5_ex3_array_2.shape)\n",
    "\n",
    "print('\\nAs we already know, multiplying these matrixes is against the rules of matrix multiplication.')\n",
    "print(\"Still let's try multiplying them through np.dot()\")\n",
    "\n",
    "f5_ex3_matrix_product = np.dot(f5_ex3_array_1, f5_ex3_array_2)\n",
    "\n",
    "print('\\n\\nProduct matrix as calculated by np.dot function:')\n",
    "print(f5_ex3_matrix_product)"
   ]
  },
  {
   "cell_type": "markdown",
   "metadata": {},
   "source": [
    "**Since this exception usually occurrs due to logical abnormalities, it is recommended not to except it in error handling as the exception can help you to easily identify the issue in the logic**"
   ]
  },
  {
   "cell_type": "markdown",
   "metadata": {},
   "source": [
    "**Numpy is a very important library in Data Analysis and hence if one aspires to become a Data Analyst or Data Scientist, Numpy should be studied thoroughly.**"
   ]
  },
  {
   "cell_type": "code",
   "execution_count": null,
   "metadata": {},
   "outputs": [],
   "source": [
    "jovian.commit()"
   ]
  },
  {
   "cell_type": "markdown",
   "metadata": {},
   "source": [
    "## Conclusion\n",
    "\n",
    "This was my introduction to Numpy functions. Comments are welcome."
   ]
  },
  {
   "cell_type": "markdown",
   "metadata": {},
   "source": [
    "## Reference Links\n",
    "\n",
    "\n",
    "* Numpy Documentation Homepage: https://numpy.org/doc/stable/user/quickstart.html\n",
    "* Numpy Cheatsheet: https://s3.amazonaws.com/assets.datacamp.com/blog_assets/Numpy_Python_Cheat_Sheet.pdf\n",
    "* Numpy GitHub Repo [Here you can see the source code of all the Numpy function]: https://github.com/numpy/numpy"
   ]
  },
  {
   "cell_type": "code",
   "execution_count": 20,
   "metadata": {},
   "outputs": [
    {
     "data": {
      "application/javascript": [
       "window.require && require([\"base/js/namespace\"],function(Jupyter){Jupyter.notebook.save_checkpoint()})"
      ],
      "text/plain": [
       "<IPython.core.display.Javascript object>"
      ]
     },
     "metadata": {},
     "output_type": "display_data"
    },
    {
     "name": "stdout",
     "output_type": "stream",
     "text": [
      "[jovian] Attempting to save notebook..\n",
      "[jovian] Updating notebook \"parresh77/numpy-array-operations\" on https://jovian.ai/\n",
      "[jovian] Uploading notebook..\n",
      "[jovian] Capturing environment..\n",
      "[jovian] Committed successfully! https://jovian.ai/parresh77/numpy-array-operations\n"
     ]
    },
    {
     "data": {
      "text/plain": [
       "'https://jovian.ai/parresh77/numpy-array-operations'"
      ]
     },
     "execution_count": 20,
     "metadata": {},
     "output_type": "execute_result"
    }
   ],
   "source": [
    "jovian.commit()"
   ]
  },
  {
   "cell_type": "code",
   "execution_count": null,
   "metadata": {},
   "outputs": [
    {
     "data": {
      "application/javascript": [
       "window.require && require([\"base/js/namespace\"],function(Jupyter){Jupyter.notebook.save_checkpoint()})"
      ],
      "text/plain": [
       "<IPython.core.display.Javascript object>"
      ]
     },
     "metadata": {},
     "output_type": "display_data"
    },
    {
     "name": "stdout",
     "output_type": "stream",
     "text": [
      "[jovian] Attempting to save notebook..\n",
      "[jovian] Updating notebook \"parresh77/numpy-array-operations\" on https://jovian.ai/\n",
      "[jovian] Uploading notebook..\n",
      "[jovian] Capturing environment..\n"
     ]
    }
   ],
   "source": [
    "jovian.submit(assignment=\"zero-to-pandas-a2\")"
   ]
  },
  {
   "cell_type": "code",
   "execution_count": null,
   "metadata": {},
   "outputs": [],
   "source": []
  }
 ],
 "metadata": {
  "kernelspec": {
   "display_name": "Python 3",
   "language": "python",
   "name": "python3"
  },
  "language_info": {
   "codemirror_mode": {
    "name": "ipython",
    "version": 3
   },
   "file_extension": ".py",
   "mimetype": "text/x-python",
   "name": "python",
   "nbconvert_exporter": "python",
   "pygments_lexer": "ipython3",
   "version": "3.8.5"
  }
 },
 "nbformat": 4,
 "nbformat_minor": 4
}
